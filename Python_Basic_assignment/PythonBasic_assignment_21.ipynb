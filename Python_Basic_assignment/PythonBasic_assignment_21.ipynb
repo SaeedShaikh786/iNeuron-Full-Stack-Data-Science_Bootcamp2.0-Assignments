{
 "cells": [
  {
   "cell_type": "markdown",
   "id": "0d7fc608",
   "metadata": {},
   "source": [
    "#### 1. Add the current date to the text file today.txt as a string."
   ]
  },
  {
   "cell_type": "code",
   "execution_count": 1,
   "id": "ea208af6",
   "metadata": {},
   "outputs": [],
   "source": [
    "import datetime\n",
    "file = open(\"today.txt\",\"w\")\n",
    "\n",
    "file.write(datetime.datetime.now().strftime(\"%d-%m-%Y\"))\n",
    "file.close()\n",
    "\n"
   ]
  },
  {
   "cell_type": "code",
   "execution_count": 3,
   "id": "2c661d8d",
   "metadata": {},
   "outputs": [
    {
     "name": "stdout",
     "output_type": "stream",
     "text": [
      "05-01-2023\n"
     ]
    }
   ],
   "source": [
    "file = open(\"today.txt\", \"r\")\n",
    "\n",
    "print(file.read())\n",
    "file.close()"
   ]
  },
  {
   "cell_type": "markdown",
   "id": "b79be339",
   "metadata": {},
   "source": [
    "#### 2. Read the text file today.txt into the string today_string"
   ]
  },
  {
   "cell_type": "code",
   "execution_count": 4,
   "id": "06a45767",
   "metadata": {},
   "outputs": [
    {
     "name": "stdout",
     "output_type": "stream",
     "text": [
      "05-01-2023\n"
     ]
    }
   ],
   "source": [
    "file = open(\"today.txt\", \"r\")\n",
    "today_string = file.read()\n",
    "print(today_string)"
   ]
  },
  {
   "cell_type": "markdown",
   "id": "face70db",
   "metadata": {},
   "source": [
    "#### 3. Parse the date from today_string."
   ]
  },
  {
   "cell_type": "code",
   "execution_count": 8,
   "id": "32213972",
   "metadata": {},
   "outputs": [
    {
     "name": "stdout",
     "output_type": "stream",
     "text": [
      "2023-01-05 00:00:00\n"
     ]
    }
   ],
   "source": [
    "from datetime import datetime\n",
    "\n",
    "parse_date = datetime.strptime(today_string,\"%d-%m-%Y\")\n",
    "print(parse_date)"
   ]
  },
  {
   "cell_type": "markdown",
   "id": "2ec5af78",
   "metadata": {},
   "source": [
    "#### 4. List the files in your current directory"
   ]
  },
  {
   "cell_type": "code",
   "execution_count": 1,
   "id": "a9a20f0b",
   "metadata": {},
   "outputs": [
    {
     "name": "stdout",
     "output_type": "stream",
     "text": [
      "PythonBasic_assignment_19.ipynb\n",
      "PythonBasic_assignment_6.ipynb\n",
      "PythonBasic_assignment_1.ipynb\n",
      "PythonBasic_Assignment_18.ipynb\n",
      "pythonBasic_assignment_3.ipynb\n",
      "PythonBasic_assignment_20.ipynb\n",
      "Assignment_No21.ipynb\n",
      "Python_Basic_assignment_11.ipynb\n",
      "PythonBasic_Assignment_17.ipynb\n",
      "log_1.txt\n",
      "PythonBasic_assignment_4.ipynb\n",
      "TRY.ipynb\n",
      "PythonBasic_assignment_7.ipynb\n",
      "Assignment_No18.ipynb\n",
      "PythonBasic_assignment_5.ipynb\n",
      "Untitled.ipynb\n",
      "PythonBasic_assignment_2.ipynb\n",
      "PythonBasic_assignment_12.ipynb\n",
      "PythonBasic_Assignment_14.ipynb\n",
      "pythonBasic_Assignment_13.ipynb\n",
      "university_records.csv\n",
      "PythonBasic_Assignment_15.ipynb\n",
      "PythonBasic_assignment_16.ipynb\n",
      "PythonBasic_Assignment_15-checkpoint.ipynb\n",
      "PythonBasic_Assignment_14-checkpoint.ipynb\n",
      "PythonBasic_assignment_12-checkpoint.ipynb\n",
      "pythonBasic_Assignment_13-checkpoint.ipynb\n",
      "PythonBasic_assignment_16-checkpoint.ipynb\n",
      "PythonBasic_assignment_8.ipynb\n",
      "PythonBasic_assignment_9.ipynb\n",
      "PythonBasic_Assignment_2.ipynb\n",
      "Pythonbasic_assignment_10.ipynb\n",
      "Pythonbasic_assignment_10-checkpoint.ipynb\n",
      "PythonBasic_Assignment_2-checkpoint.ipynb\n",
      "PythonBasic_assignment_8-checkpoint.ipynb\n",
      "PythonBasic_assignment_9-checkpoint.ipynb\n",
      "PythonBasic_assignment_1-checkpoint.ipynb\n",
      "Assignment_No21-checkpoint.ipynb\n",
      "PythonBasic_Assignment_17-checkpoint.ipynb\n",
      "TRY-checkpoint.ipynb\n",
      "PythonBasic_assignment_5-checkpoint.ipynb\n",
      "PythonBasic_assignment_2-checkpoint.ipynb\n",
      "PythonBasic_Assignment_18-checkpoint.ipynb\n",
      "Assignment_No18-checkpoint.ipynb\n",
      "PythonBasic_assignment_7-checkpoint.ipynb\n",
      "Python_Basic_assignment_11-checkpoint.ipynb\n",
      "PythonBasic_assignment_4-checkpoint.ipynb\n",
      "PythonBasic_assignment_20-checkpoint.ipynb\n",
      "PythonBasic_assignment_19-checkpoint.ipynb\n",
      "Untitled-checkpoint.ipynb\n",
      "PythonBasic_assignment_6-checkpoint.ipynb\n",
      "pythonBasic_assignment_3-checkpoint.ipynb\n"
     ]
    }
   ],
   "source": [
    "import os\n",
    "for folders,subfolders,file in os.walk(os.getcwd()):\n",
    "    for i in file:\n",
    "        print(i)\n"
   ]
  },
  {
   "cell_type": "markdown",
   "id": "c0f9794b",
   "metadata": {
    "tags": []
   },
   "source": [
    "#### 5. Create a list of all of the files in your parent directory (minimum five files should be available)."
   ]
  },
  {
   "cell_type": "code",
   "execution_count": 2,
   "id": "eb58c477",
   "metadata": {},
   "outputs": [
    {
     "data": {
      "text/plain": [
       "['PythonBasic_assignment_19.ipynb',\n",
       " 'PythonBasic_assignment_6.ipynb',\n",
       " 'PythonBasic_assignment_1.ipynb',\n",
       " 'PythonBasic_Assignment_18.ipynb',\n",
       " 'pythonBasic_assignment_3.ipynb',\n",
       " 'PythonBasic_assignment_20.ipynb',\n",
       " 'Assignment_No21.ipynb',\n",
       " 's',\n",
       " 'Python_Basic_assignment_11.ipynb',\n",
       " 'PythonBasic_Assignment_17.ipynb',\n",
       " 'log_1.txt',\n",
       " 'PythonBasic_assignment_4.ipynb',\n",
       " 'TRY.ipynb',\n",
       " \"others'\",\n",
       " 'PythonBasic_assignment_7.ipynb',\n",
       " 'Assignment_No18.ipynb',\n",
       " 'PythonBasic_assignment_5.ipynb',\n",
       " 'Untitled.ipynb',\n",
       " '.ipynb_checkpoints',\n",
       " 'PythonBasic_assignment_2.ipynb']"
      ]
     },
     "execution_count": 2,
     "metadata": {},
     "output_type": "execute_result"
    }
   ],
   "source": [
    "os.listdir()"
   ]
  },
  {
   "cell_type": "markdown",
   "id": "7c3a7a87",
   "metadata": {},
   "source": [
    "#### 6. Use multiprocessing to create three separate processes. Make each one wait a random number of seconds between one and five, print the current time, and then exit."
   ]
  },
  {
   "cell_type": "code",
   "execution_count": 18,
   "id": "2ebfa9a4",
   "metadata": {},
   "outputs": [],
   "source": [
    "import multiprocessing\n",
    "import time \n",
    "import random\n",
    "import datetime\n",
    "\n",
    "def procOne():\n",
    "    print(f'Proc_one_Starttime -> {datetime.datetime.now()}')\n",
    "    time.sleep(random.randint(1,5))\n",
    "    print(f'Proc_one_Endtime -> {datetime.datetime.now()}')\n",
    "    \n",
    "def procTwo():\n",
    "    print(f'Proc_two_Starttime -> {datetime.datetime.now()}')\n",
    "    time.sleep(random.randint(1,5))\n",
    "    print(f'Proc_two_Endtime -> {datetime.datetime.now()}')\n",
    "\n",
    "def procThree():\n",
    "    print(f'Proc_two_Starttime -> {datetime.datetime.now()}')\n",
    "    time.sleep(random.randint(1,5))\n",
    "    print(f'Proc_two_Endtime -> {datetime.datetime.now()}')\n",
    "    \n",
    "if __name__ == \"__main__\":    \n",
    "    p1 = multiprocessing.Process(target=procOne)\n",
    "    p2 = multiprocessing.Process(target=procTwo)\n",
    "    p3 = multiprocessing.Process(target=procThree)\n",
    "\n",
    "    p1.start()\n",
    "    p2.start()\n",
    "    p3.start()\n",
    "\n",
    "    p1.join()\n",
    "    p2.join()\n",
    "    p3.join()"
   ]
  },
  {
   "cell_type": "markdown",
   "id": "a2ecdb46",
   "metadata": {},
   "source": [
    "#### 7. Create a date object of your day of birth."
   ]
  },
  {
   "cell_type": "code",
   "execution_count": 5,
   "id": "8296a229",
   "metadata": {},
   "outputs": [
    {
     "name": "stdout",
     "output_type": "stream",
     "text": [
      "2000-07-14 00:00:00\n"
     ]
    }
   ],
   "source": [
    "from datetime import datetime\n",
    "myDoB = datetime.strptime(\"14/07/2000\",\"%d/%m/%Y\")\n",
    "\n",
    "print(myDoB)"
   ]
  },
  {
   "cell_type": "markdown",
   "id": "33579273",
   "metadata": {},
   "source": [
    "#### 8. What day of the week was your day of birth?"
   ]
  },
  {
   "cell_type": "code",
   "execution_count": 6,
   "id": "c15d2d50",
   "metadata": {},
   "outputs": [
    {
     "data": {
      "text/plain": [
       "'Friday'"
      ]
     },
     "execution_count": 6,
     "metadata": {},
     "output_type": "execute_result"
    }
   ],
   "source": [
    "mydob = datetime(2000,7,14)\n",
    "mydob.strftime(\"%A\")"
   ]
  },
  {
   "cell_type": "markdown",
   "id": "89469b5c",
   "metadata": {},
   "source": [
    "#### 9. When will you be (or when were you) 10,000 days old?"
   ]
  },
  {
   "cell_type": "code",
   "execution_count": 7,
   "id": "b6f7a832",
   "metadata": {},
   "outputs": [
    {
     "name": "stdout",
     "output_type": "stream",
     "text": [
      "2027-11-30 00:00:00\n"
     ]
    }
   ],
   "source": [
    "from datetime import datetime, timedelta\n",
    "\n",
    "mydob = datetime.strptime(\"14/07/2000\",\"%d/%m/%Y\")\n",
    "future_date = mydob+timedelta(10000)\n",
    "print(future_date)"
   ]
  },
  {
   "cell_type": "code",
   "execution_count": null,
   "id": "28ff21d8",
   "metadata": {},
   "outputs": [],
   "source": []
  },
  {
   "cell_type": "code",
   "execution_count": null,
   "id": "3b496568",
   "metadata": {},
   "outputs": [],
   "source": []
  }
 ],
 "metadata": {
  "kernelspec": {
   "display_name": "Python 3 (ipykernel)",
   "language": "python",
   "name": "python3"
  },
  "language_info": {
   "codemirror_mode": {
    "name": "ipython",
    "version": 3
   },
   "file_extension": ".py",
   "mimetype": "text/x-python",
   "name": "python",
   "nbconvert_exporter": "python",
   "pygments_lexer": "ipython3",
   "version": "3.10.6"
  }
 },
 "nbformat": 4,
 "nbformat_minor": 5
}
