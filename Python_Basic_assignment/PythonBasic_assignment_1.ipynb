{
 "cells": [
  {
   "cell_type": "raw",
   "id": "a773716a-42ed-442a-b43d-514530251369",
   "metadata": {},
   "source": [
    "1 .In the below elements which of them are values or an expression? \n",
    "eg:- values can be integer or string and expressions will be mathematical operators.\n",
    "*\n",
    "hello\n",
    "-87.8\n",
    "-\n",
    "/\n",
    "+\n",
    "6"
   ]
  },
  {
   "cell_type": "raw",
   "id": "cf4c180f-ef33-4211-8366-5fac627e1d43",
   "metadata": {},
   "source": [
    "Answer :\n",
    "*       is an expression which is used for multiplication\n",
    "'hello' is a value and it is a string \n",
    "-87.8   is a integer value \n",
    "-       is a mathematical operator used for subtraction\n",
    "/       is a mathematical operator used for division\n",
    "+       is a mathematical operator used for additon\n",
    "6       is a value "
   ]
  },
  {
   "cell_type": "raw",
   "id": "5ed30156-a368-4a42-96f7-0041ae4b13da",
   "metadata": {},
   "source": [
    "2. What is the difference between string and variable?"
   ]
  },
  {
   "cell_type": "raw",
   "id": "c79aefe0-77cf-4674-90ec-dee89977fa67",
   "metadata": {},
   "source": [
    "Ans : Variable is used to store values and String is a type of information that you store in variable we can represent string in python like this in double quotes\" \" or single quots' '  eg : \" saeed\" is a string and  name=\"saeed\"  , here name is a variable ."
   ]
  },
  {
   "cell_type": "raw",
   "id": "eac1faa0-24e2-4338-9eac-86b8723275c7",
   "metadata": {},
   "source": [
    "3.  Describe three different data types.\n"
   ]
  },
  {
   "cell_type": "raw",
   "id": "ce7c8de8-a246-41c5-9362-1f5f58f08827",
   "metadata": {},
   "source": [
    "Ans : \n",
    "int data type : we can use to represent whole number called integar value  ,eg : 56\n",
    "\n",
    "float data type : we use this data type to represent floting point value eg : 4.6 \n",
    "\n",
    "Bool data type : In this data type give you bool values (True,False)"
   ]
  },
  {
   "cell_type": "code",
   "execution_count": 2,
   "id": "6bb04c37-3d86-43c3-8722-1a0ee90c89e3",
   "metadata": {},
   "outputs": [
    {
     "name": "stdout",
     "output_type": "stream",
     "text": [
      "<class 'int'>\n",
      "<class 'float'>\n",
      "<class 'bool'>\n"
     ]
    }
   ],
   "source": [
    "print(type(56))\n",
    "print(type(4.6))\n",
    "print(type(True))\n"
   ]
  },
  {
   "cell_type": "raw",
   "id": "d4283113-3031-4cb2-93e4-e8f0fa2594b4",
   "metadata": {},
   "source": [
    "4.What is an expression made up of? What do all expressions do?"
   ]
  },
  {
   "cell_type": "raw",
   "id": "5d0c479b-50d1-4ef1-b817-a5da2e8c9378",
   "metadata": {},
   "source": [
    "ANS:\n",
    "An expression is a combination of values, variables, and operators that represents a single value. \n",
    "In Python, an expression can be as simple as a single number or as complex as a series of calculations and function calls.\n",
    "\n",
    "Eg: \n",
    "19+8\n",
    "a * b\n"
   ]
  },
  {
   "cell_type": "raw",
   "id": "9944ed74-6c6c-456d-835a-ec08b279c315",
   "metadata": {},
   "source": [
    "5.This assignment statements, like spam = 10. What is the difference between an\n",
    "expression and a statement?"
   ]
  },
  {
   "cell_type": "raw",
   "id": "2aee97f1-44a1-4ee2-ad9b-43f9d6a4f0cf",
   "metadata": {},
   "source": [
    "ANS:\n",
    "    An expression is a combination of values, variables, and operators.When we type an expression at the promt, the interpreter give it which means that it finds the value of the expression it can be any data type , but variable declaration and assignment are statements because they do not return a value\n",
    "\n",
    "eg: \n",
    "\n",
    "spam=10 is a variable declaration and  x+y is an expression .\n"
   ]
  },
  {
   "cell_type": "raw",
   "id": "c13a7e68-4cfb-4129-878b-cf1e4da47f34",
   "metadata": {},
   "source": [
    "6. After running the following code, what does the variable bacon contain?\n",
    "bacon = 22\n",
    "bacon + 1"
   ]
  },
  {
   "cell_type": "code",
   "execution_count": 9,
   "id": "0bad0270-58d8-4102-a1fd-8f7091676f1b",
   "metadata": {},
   "outputs": [
    {
     "name": "stdout",
     "output_type": "stream",
     "text": [
      "22\n"
     ]
    }
   ],
   "source": [
    "\n",
    "#Ans:\n",
    "bacon=22\n",
    "bacon+1\n",
    "\n",
    "print(bacon)\n",
    "#here after adding a value to bacon it will just return a value to the expression and value that assigned to bacon will remain same ."
   ]
  },
  {
   "cell_type": "raw",
   "id": "831c364d-789f-473c-908d-df72f0c05c15",
   "metadata": {},
   "source": [
    "7. What should the values of the following two terms be?\n",
    "'spam' + 'spamspam'\n",
    "'spam'*3"
   ]
  },
  {
   "cell_type": "code",
   "execution_count": 10,
   "id": "1ebd7b1c-6da3-4d15-b335-62162bfe406c",
   "metadata": {},
   "outputs": [
    {
     "name": "stdout",
     "output_type": "stream",
     "text": [
      "spamspamspam\n",
      "spamspamspam\n"
     ]
    }
   ],
   "source": [
    "# ans\n",
    "\n",
    "print(\"spam\"+\"spamspam\")\n",
    "print(\"spam\"*3)"
   ]
  },
  {
   "cell_type": "raw",
   "id": "e43bd87b-0d60-4597-a088-0a0bf5f2bb78",
   "metadata": {},
   "source": [
    "8. Why is eggs a valid variable name while 100 is invalid?"
   ]
  },
  {
   "cell_type": "raw",
   "id": "6e469315-0a95-4fb0-ba7f-197688962cf1",
   "metadata": {},
   "source": [
    "ans : eggs is valid variable name because variable name cannot begin with number."
   ]
  },
  {
   "cell_type": "code",
   "execution_count": null,
   "id": "a3489a2d-8e87-4ad3-9bfa-6665f8d3c32d",
   "metadata": {},
   "outputs": [],
   "source": []
  },
  {
   "cell_type": "raw",
   "id": "4bfa3735-afd0-4f94-bf0b-84984008933a",
   "metadata": {},
   "source": [
    "9. What three functions can be used to get the integer, floating-point number, or string\n",
    "version of a value?"
   ]
  },
  {
   "cell_type": "code",
   "execution_count": 11,
   "id": "27ae7fc9-9aed-4bc6-94d1-388e07e6b73c",
   "metadata": {},
   "outputs": [
    {
     "name": "stdout",
     "output_type": "stream",
     "text": [
      "10\n",
      "5.0\n",
      "9\n"
     ]
    }
   ],
   "source": [
    "# int() - this function used to an integer \n",
    "print(int(10.9))\n",
    "\n",
    "# float() - this function used to get floating point number \n",
    "\n",
    "print(float(5))\n",
    "\n",
    "# str() - this function used to get an string version of value \n",
    "\n",
    "print(str(9))"
   ]
  },
  {
   "cell_type": "raw",
   "id": "e8ee7386-69b8-419c-aba5-1c21b5a88499",
   "metadata": {},
   "source": [
    "10.Why does this expression cause an error? How can you fix it?\n",
    "'I have eaten' + 99 + 'burritos'"
   ]
  },
  {
   "cell_type": "code",
   "execution_count": 12,
   "id": "246e7818-216e-48c5-9a7a-b82ad50757c8",
   "metadata": {},
   "outputs": [
    {
     "ename": "SyntaxError",
     "evalue": "invalid syntax (1102143366.py, line 1)",
     "output_type": "error",
     "traceback": [
      "\u001b[0;36m  Cell \u001b[0;32mIn [12], line 1\u001b[0;36m\u001b[0m\n\u001b[0;31m    ans :\u001b[0m\n\u001b[0m         ^\u001b[0m\n\u001b[0;31mSyntaxError\u001b[0m\u001b[0;31m:\u001b[0m invalid syntax\n"
     ]
    }
   ],
   "source": [
    "\n",
    "ans :\n",
    "    \n",
    "The error is caused due to the integer value. Integer value cannot be concatenated with strings.\n",
    "and we can fix this error by using 99 as a string value \n",
    "\n"
   ]
  }
 ],
 "metadata": {
  "kernelspec": {
   "display_name": "Python 3 (ipykernel)",
   "language": "python",
   "name": "python3"
  },
  "language_info": {
   "codemirror_mode": {
    "name": "ipython",
    "version": 3
   },
   "file_extension": ".py",
   "mimetype": "text/x-python",
   "name": "python",
   "nbconvert_exporter": "python",
   "pygments_lexer": "ipython3",
   "version": "3.10.6"
  }
 },
 "nbformat": 4,
 "nbformat_minor": 5
}
