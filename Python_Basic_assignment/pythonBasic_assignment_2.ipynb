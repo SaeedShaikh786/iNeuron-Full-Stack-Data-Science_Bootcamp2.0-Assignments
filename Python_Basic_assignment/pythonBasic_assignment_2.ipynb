{
 "cells": [
  {
   "cell_type": "markdown",
   "id": "221ade4d-d75d-4edc-a946-93ab3e0b0e91",
   "metadata": {},
   "source": [
    "### 1.What are the two values of the Boolean data type? How do you write them? "
   ]
  },
  {
   "cell_type": "markdown",
   "id": "1bfd4f92-e07d-46bb-bcac-e44fa081544d",
   "metadata": {},
   "source": [
    "There are two boolean data type **True** and **False** \n",
    "\n"
   ]
  },
  {
   "cell_type": "code",
   "execution_count": 2,
   "id": "3d44a9ab-8d32-4284-8136-f86d511918b3",
   "metadata": {},
   "outputs": [
    {
     "name": "stdout",
     "output_type": "stream",
     "text": [
      "Type of a:<class 'bool'> and Type of b:<class 'bool'>\n"
     ]
    }
   ],
   "source": [
    "a=True\n",
    "b=False \n",
    "print(f\"Type of a:{type(a)} and Type of b:{type(b)}\")"
   ]
  },
  {
   "cell_type": "markdown",
   "id": "d884b1d7-ab09-4a9b-a0f4-d51d7335bbe1",
   "metadata": {},
   "source": [
    "### 2. What are the three different types of Boolean operators?"
   ]
  },
  {
   "cell_type": "markdown",
   "id": "abc2b076-0043-4118-89c5-873e503aefa6",
   "metadata": {},
   "source": [
    " The Three different types of boolean operators are **AND** , **OR** , **NOT** "
   ]
  },
  {
   "cell_type": "markdown",
   "id": "91504f62-5821-4dd9-9dd0-a8fe921f6360",
   "metadata": {},
   "source": [
    "###  3. Make a list of each Boolean operator&#39;s truth tables (i.e. every possible combination of Boolean values for the operator and what it evaluate )."
   ]
  },
  {
   "cell_type": "markdown",
   "id": "9fb24af3-7dfc-45c1-802e-4a02e99873c2",
   "metadata": {},
   "source": [
    "\n",
    "```\n",
    "\n",
    "   AND                      OR                     NOT \n",
    "A\tB\tA AND B            A B   A OR B           A   NOT A\n",
    "\n",
    "0\t0\t0                  0 0    0               0   1\n",
    "0\t1\t0                  0 1    1               1   0\n",
    "1\t0\t0                  1 0    1\n",
    "1\t1\t1                  1 1    1\n",
    " \n",
    "```\n"
   ]
  },
  {
   "cell_type": "markdown",
   "id": "becdc626-e97c-47bf-8acc-ca54692161b6",
   "metadata": {},
   "source": [
    "#### 4. What are the values of the following expressions?\n",
    "\n",
    "- (5 &gt; 4) and (3 == 5)\n",
    "- not (5 &gt; 4)\n",
    "- (5 &gt; 4) or (3 == 5)\n",
    "- not ((5 &gt; 4) or (3 == 5))\n",
    "- (True and True) and (True == False)\n",
    "- (not False) or (not True)"
   ]
  },
  {
   "cell_type": "code",
   "execution_count": 6,
   "id": "8c0d016c-0bcd-4593-b424-d45a26689e74",
   "metadata": {},
   "outputs": [
    {
     "name": "stdout",
     "output_type": "stream",
     "text": [
      "False\n",
      "False\n",
      "True\n",
      "True\n",
      "False\n",
      "True\n"
     ]
    }
   ],
   "source": [
    "print((5 > 4) and (3 == 5))\n",
    "print(not (5 > 4))\n",
    "print((5 > 4) or (3 == 5))\n",
    "print(((5 > 4) or (3 == 5)))\n",
    "print((True and True) and (True == False))\n",
    "print((not False) or (not True))"
   ]
  },
  {
   "cell_type": "markdown",
   "id": "37f2022f-44d0-4092-b66c-818ad58493c7",
   "metadata": {},
   "source": [
    "### 5 .What are the six comparison operators?."
   ]
  },
  {
   "cell_type": "markdown",
   "id": "9b91eefc-b0e7-49c4-94cf-53e0922b0615",
   "metadata": {},
   "source": [
    "``` \n",
    "1: less than (<),\n",
    "2: less than or equal to (<=),\n",
    "3: greater than (>),\n",
    "4: greater than or equal to (>=),\n",
    "5: equal to (==),\n",
    "6: not equal to (!=) \n",
    "```"
   ]
  },
  {
   "cell_type": "markdown",
   "id": "ad9fff9e-a963-4686-937a-1dad3ab13244",
   "metadata": {},
   "source": [
    "### 6. How do you tell the difference between the equal to and assignment operators?Describe a condition and when you would use one."
   ]
  },
  {
   "cell_type": "markdown",
   "id": "44ba2c39-5754-487b-853b-8f5c4bfa4da4",
   "metadata": {},
   "source": [
    "```\n",
    "= is used to define a variable or to store a value inside a variable \n",
    " and \n",
    "== is an operator that used to check if both values are equal or not \n",
    "```"
   ]
  },
  {
   "cell_type": "code",
   "execution_count": 14,
   "id": "1f1fc5ce-5e85-4450-a1a2-0de773e49539",
   "metadata": {},
   "outputs": [
    {
     "data": {
      "text/plain": [
       "True"
      ]
     },
     "execution_count": 14,
     "metadata": {},
     "output_type": "execute_result"
    }
   ],
   "source": [
    "# Eg:\n",
    "\n",
    "name =\"saeed\"  # = is used to store a value \n",
    "\n",
    "name==\"saeed\"   # == is used to check a both values are equal or not and it give a boolean value"
   ]
  },
  {
   "cell_type": "markdown",
   "id": "a9f6bdc3-94d8-4de1-a5b3-ce14d4b3d952",
   "metadata": {
    "tags": []
   },
   "source": [
    "### 7.Identify the three blocks in this code:\n",
    "\n",
    "spam = 0 if spam == 10: print('eggs') if spam > 5: print('bacon') else: print('ham') print('spam') print('spam')"
   ]
  },
  {
   "cell_type": "code",
   "execution_count": 17,
   "id": "65c7a3a9-11b1-48a3-8ec0-f4ed6aff634f",
   "metadata": {},
   "outputs": [
    {
     "name": "stdout",
     "output_type": "stream",
     "text": [
      "ham\n",
      "spam\n",
      "spam\n"
     ]
    }
   ],
   "source": [
    "spam=0\n",
    "\n",
    "if spam==10:\n",
    "    print(\"eggs\")     # block 1\n",
    "\n",
    "if spam>5:\n",
    "    print(\"bacon\")    # block 2\n",
    "\n",
    "else:\n",
    "    print(\"ham\")\n",
    "    print(\"spam\")   # block3\n",
    "    print(\"spam\")"
   ]
  },
  {
   "cell_type": "markdown",
   "id": "85d660de-975e-4ae9-9090-4ab40abe6ddb",
   "metadata": {},
   "source": [
    "### 8. Write code that prints Hello if 1 is stored in spam, prints Howdy if 2 is stored in spam, and prints Greetings! if anything else is stored in spam."
   ]
  },
  {
   "cell_type": "code",
   "execution_count": 18,
   "id": "7d9cf81a-7366-4f73-894a-8108890caeed",
   "metadata": {},
   "outputs": [
    {
     "name": "stdout",
     "output_type": "stream",
     "text": [
      "Greetings\n"
     ]
    }
   ],
   "source": [
    "\n",
    "if spam==1:\n",
    "    print(\"Hello\")\n",
    "elif spam==2:\n",
    "    print(\"Howdy\")\n",
    "else:\n",
    "    print(\"Greetings\")\n",
    "    "
   ]
  },
  {
   "cell_type": "markdown",
   "id": "bdecb826-602a-4324-9f25-a002d17afcbd",
   "metadata": {},
   "source": [
    "#### 9.If your programme is stuck in an endless loop, what keys you’ll press? "
   ]
  },
  {
   "cell_type": "markdown",
   "id": "e8e24cdf-4217-46f2-8bf7-4fb86cb99113",
   "metadata": {},
   "source": [
    "Press Ctrl-c to stop a program stuck in an infinite loop"
   ]
  },
  {
   "cell_type": "markdown",
   "id": "d2063c61-e4b9-4741-8eff-9a7d6572ab7d",
   "metadata": {},
   "source": [
    "####  10. How can you tell the difference between break and continue?"
   ]
  },
  {
   "cell_type": "markdown",
   "id": "572d9639-5a7a-48c9-9990-329cfdda6a6b",
   "metadata": {},
   "source": [
    "The break statement will move the execution outside the loop if break condtion is satisfied. whereas the continue statement will move the execution to the start of the loop"
   ]
  },
  {
   "cell_type": "code",
   "execution_count": 19,
   "id": "3eb52519-c436-4404-901a-bad59e9d2e51",
   "metadata": {},
   "outputs": [
    {
     "name": "stdout",
     "output_type": "stream",
     "text": [
      "0\n",
      "1\n",
      "2\n",
      "3\n",
      "4\n",
      "5\n",
      "6\n",
      "***************\n",
      "0\n",
      "1\n",
      "2\n",
      "3\n",
      "4\n",
      "5\n",
      "6\n",
      "8\n",
      "9\n"
     ]
    }
   ],
   "source": [
    "for i in range(10):\n",
    "    if i==7:\n",
    "        break\n",
    "    else:\n",
    "        print(i)\n",
    "print(\"***************\")     \n",
    "# AND \n",
    "\n",
    "for i in range(10):\n",
    "    if i==7:\n",
    "        continue\n",
    "    else:\n",
    "        print(i)"
   ]
  },
  {
   "cell_type": "markdown",
   "id": "76af9063-dca8-4322-bbc2-0b988c502488",
   "metadata": {},
   "source": [
    "#### 11. In a for loop, what is the difference between range(10), range(0, 10), and range(0, 10, 1)?"
   ]
  },
  {
   "cell_type": "markdown",
   "id": "7d605529-e676-4f0a-b9e4-6b6a75985585",
   "metadata": {},
   "source": [
    "- The range(10) call range from 0 to 9(but not include 10)\n",
    "\n",
    "- The range(0,10) tells that the loop to start from 0 (range(10) and range(0,10) are same)\n",
    "- The range(0,10,1)tells that the loop to increase the variable by 1 on each iteration"
   ]
  },
  {
   "cell_type": "markdown",
   "id": "7d5a26b0-7d87-45f6-93fe-2eca2c517467",
   "metadata": {},
   "source": [
    "####  12. Write a short program that prints the numbers 1 to 10 using a for loop. Then write an equivalent program that prints the numbers 1 to 10 using a while loop."
   ]
  },
  {
   "cell_type": "code",
   "execution_count": 23,
   "id": "4108e1f8-4435-41c0-bebf-539fe13dd2af",
   "metadata": {},
   "outputs": [
    {
     "name": "stdout",
     "output_type": "stream",
     "text": [
      "1\n",
      "2\n",
      "3\n",
      "4\n",
      "5\n",
      "6\n",
      "7\n",
      "8\n",
      "9\n",
      "10\n"
     ]
    }
   ],
   "source": [
    "for i in range(1,11):\n",
    "    print(i)"
   ]
  },
  {
   "cell_type": "code",
   "execution_count": 31,
   "id": "795e3741-829f-4577-a541-1d46239f9543",
   "metadata": {},
   "outputs": [
    {
     "name": "stdout",
     "output_type": "stream",
     "text": [
      "1\n",
      "2\n",
      "3\n",
      "4\n",
      "5\n",
      "6\n",
      "7\n",
      "8\n",
      "9\n",
      "10\n"
     ]
    }
   ],
   "source": [
    "i=1\n",
    "while i<11:\n",
    "    print(i)\n",
    "    i=i+1\n",
    "    \n",
    "   "
   ]
  },
  {
   "cell_type": "markdown",
   "id": "d3926099-1b6b-4833-bccc-58e9fe14ac13",
   "metadata": {},
   "source": [
    "#### 13. If you had a function named bacon() inside a module named spam, how would you call it after importing spam?"
   ]
  },
  {
   "cell_type": "markdown",
   "id": "d9e98213-0378-4b24-b6a7-9b7db3c0a0d5",
   "metadata": {},
   "source": [
    "This function can be called with\n",
    "\n",
    "spam.bacon()"
   ]
  }
 ],
 "metadata": {
  "kernelspec": {
   "display_name": "Python 3 (ipykernel)",
   "language": "python",
   "name": "python3"
  },
  "language_info": {
   "codemirror_mode": {
    "name": "ipython",
    "version": 3
   },
   "file_extension": ".py",
   "mimetype": "text/x-python",
   "name": "python",
   "nbconvert_exporter": "python",
   "pygments_lexer": "ipython3",
   "version": "3.10.6"
  }
 },
 "nbformat": 4,
 "nbformat_minor": 5
}
