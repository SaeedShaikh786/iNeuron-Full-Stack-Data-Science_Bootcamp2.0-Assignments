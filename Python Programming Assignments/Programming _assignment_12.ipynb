{
 "cells": [
  {
   "cell_type": "markdown",
   "id": "61769c1e",
   "metadata": {},
   "source": [
    "#### 1.Write a Python program to Extract Unique values dictionary values?"
   ]
  },
  {
   "cell_type": "code",
   "execution_count": 6,
   "id": "86055526",
   "metadata": {},
   "outputs": [
    {
     "name": "stdout",
     "output_type": "stream",
     "text": [
      "All the value inside dictionary:  dict_values(['Saeed', 'Taj', 'Hampi', 'Yamunotri', 'Kedarnath', 'Tirupati', 'Kedarnath'])\n"
     ]
    }
   ],
   "source": [
    "in_dict = {1:'Saeed',2:'Taj',3:'Hampi',4:'Yamunotri',5:'Kedarnath',6:'Tirupati',7:'Kedarnath'}\n",
    "\n",
    "print(\"All the value inside dictionary: \",in_dict.values())"
   ]
  },
  {
   "cell_type": "markdown",
   "id": "fbfb063f",
   "metadata": {},
   "source": [
    "#### 2.Write a Python program to find the sum of all items in a dictionary?"
   ]
  },
  {
   "cell_type": "code",
   "execution_count": 9,
   "id": "b9643364",
   "metadata": {},
   "outputs": [
    {
     "name": "stdout",
     "output_type": "stream",
     "text": [
      "sum of all item:  300\n"
     ]
    }
   ],
   "source": [
    "in_dict1 = {'Apple':10,'Mango':20,'Banana':30,'Guava':40,'PineApple':200}\n",
    "\n",
    "print(\"sum of all item: \",sum(in_dict1.values()))"
   ]
  },
  {
   "cell_type": "markdown",
   "id": "c6d2b268",
   "metadata": {},
   "source": [
    "#### 3.Write a Python program to Merging two Dictionaries?"
   ]
  },
  {
   "cell_type": "code",
   "execution_count": 5,
   "id": "3339cf0b",
   "metadata": {},
   "outputs": [
    {
     "name": "stdout",
     "output_type": "stream",
     "text": [
      "{1: 'Saeed', 2: 'Taj', 3: 'Hampi', 4: 'Mumbai', 5: 'Kedarnath', 6: 'Tirupati', 7: 'Kedarnath', 'Apple': 10, 'Mango': 20, 'Banana': 30, 'Guava': 40, 'PineApple': 200}\n"
     ]
    }
   ],
   "source": [
    "in_dict = {1:'Saeed',2:'Taj',3:'Hampi',4:'Mumbai',5:'Kedarnath',6:'Tirupati',7:'Kedarnath'}\n",
    "in_dict1 = {'Apple':10,'Mango':20,'Banana':30,'Guava':40,'PineApple':200}\n",
    "\n",
    "in_dict.update(in_dict1)\n",
    "print(in_dict)\n"
   ]
  },
  {
   "cell_type": "markdown",
   "id": "001ba5e9",
   "metadata": {},
   "source": [
    "#### 4.Write a Python program to convert key-values list to flat dictionary?"
   ]
  },
  {
   "cell_type": "code",
   "execution_count": 25,
   "id": "5d3a6ae1",
   "metadata": {},
   "outputs": [
    {
     "name": "stdout",
     "output_type": "stream",
     "text": [
      "{'A': 10, 'B': 20, 'C': 30, 'D': 40, 'E': 50, 'F': 60, 'G': 70, 'H': 80, 'I': 90, 'J': 100}\n"
     ]
    }
   ],
   "source": [
    "in_list2 = [('A',10),('B',20),('C',30),('D',40),('E',50),('F',60),('G',70),('H',80),('I',90),('J',100)]\n",
    "\n",
    "print(dict(in_list2))"
   ]
  },
  {
   "cell_type": "markdown",
   "id": "b71007f9",
   "metadata": {},
   "source": [
    "#### 5.Write a Python program to insertion at the beginning in OrderedDict?"
   ]
  },
  {
   "cell_type": "code",
   "execution_count": 3,
   "id": "370a41e5",
   "metadata": {},
   "outputs": [
    {
     "name": "stdout",
     "output_type": "stream",
     "text": [
      "dict_one OrderedDict([('Apple', 'Iphone'), ('Microsoft', 'Windows'), ('Google', 'chrome')])\n",
      "OrderedDict([('Apple', 'Iphone'), ('Microsoft', 'Windows'), ('Google', 'chrome'), ('Tesla', 'SpaceX')])\n",
      " insertion at the beginning:  OrderedDict([('Tesla', 'SpaceX'), ('Apple', 'Iphone'), ('Microsoft', 'Windows'), ('Google', 'chrome')])\n"
     ]
    }
   ],
   "source": [
    "from collections import OrderedDict\n",
    "dict_one = OrderedDict({'Apple':'Iphone','Microsoft':'Windows','Google':'chrome'})\n",
    "print('dict_one',dict_one)\n",
    "dict_two = {'Tesla':'SpaceX'}\n",
    "dict_one.update(dict_two)\n",
    "print(dict_one)\n",
    "dict_one.move_to_end(\"Tesla\",last=False)\n",
    "print(\" insertion at the beginning: \",dict_one)"
   ]
  },
  {
   "cell_type": "markdown",
   "id": "99f1c448",
   "metadata": {},
   "source": [
    "#### 6.Write a Python program to check order of character in string using OrderedDict()?"
   ]
  },
  {
   "cell_type": "code",
   "execution_count": 4,
   "id": "2791703d",
   "metadata": {},
   "outputs": [
    {
     "name": "stdout",
     "output_type": "stream",
     "text": [
      "{'a': 100, 's': 300, 'd': 30, 'h': 423, 'b': 900, 'e': 600}\n",
      "OrderedDict([('a', 100), ('b', 900), ('d', 30), ('e', 600), ('h', 423), ('s', 300)])\n"
     ]
    }
   ],
   "source": [
    "initial_list = {'a': 100, 's': 300, 'd': 30, 'h': 423, 'b': 900, 'e': 600}\n",
    "print(initial_list)\n",
    "\n",
    "f = OrderedDict(dict(sorted(initial_list.items())))\n",
    "print(f)\n"
   ]
  },
  {
   "cell_type": "markdown",
   "id": "8a840202",
   "metadata": {},
   "source": [
    "#### 7.Write a Python program to sort Python Dictionaries by Key or Value?"
   ]
  },
  {
   "cell_type": "code",
   "execution_count": 1,
   "id": "2b0b85f6",
   "metadata": {},
   "outputs": [
    {
     "name": "stdout",
     "output_type": "stream",
     "text": [
      "{'Amol': 610, 'Kala bhai': 113, 'Mann': 122, 'Saeed': 100}\n"
     ]
    }
   ],
   "source": [
    "d_items = {'Saeed':100,'Mann':122,'Amol':610,'Kala bhai':113}\n",
    "print(dict(sorted(d_items.items())))\n",
    "    "
   ]
  },
  {
   "cell_type": "code",
   "execution_count": null,
   "id": "3687a709",
   "metadata": {},
   "outputs": [],
   "source": []
  },
  {
   "cell_type": "code",
   "execution_count": null,
   "id": "fa0d9610",
   "metadata": {},
   "outputs": [],
   "source": []
  }
 ],
 "metadata": {
  "kernelspec": {
   "display_name": "Python 3 (ipykernel)",
   "language": "python",
   "name": "python3"
  },
  "language_info": {
   "codemirror_mode": {
    "name": "ipython",
    "version": 3
   },
   "file_extension": ".py",
   "mimetype": "text/x-python",
   "name": "python",
   "nbconvert_exporter": "python",
   "pygments_lexer": "ipython3",
   "version": "3.10.6"
  }
 },
 "nbformat": 4,
 "nbformat_minor": 5
}
